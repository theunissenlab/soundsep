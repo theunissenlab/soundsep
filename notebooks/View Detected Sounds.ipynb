{
 "cells": [
  {
   "cell_type": "code",
   "execution_count": 1,
   "metadata": {},
   "outputs": [],
   "source": [
    "import sys\n",
    "sys.path.append(\"../code/soundsep\")"
   ]
  },
  {
   "cell_type": "markdown",
   "metadata": {},
   "source": [
    "## Populate these fields\n",
    "\n",
    "SPECTROGRAMS_PATH: numpy file with an array of shape (n_vocalizations, n_freq_bins, n_time_bins)\n",
    "\n",
    "WAVFILE_PATH: path to wav file\n",
    "\n",
    "INTERVALS_PATH: numpy file with an array of shape (n_vocalizations, 2)\n",
    "\n",
    "You can generate these with the script `python scripts/process_wav_file.py <path to wav file>`"
   ]
  },
  {
   "cell_type": "code",
   "execution_count": 2,
   "metadata": {},
   "outputs": [],
   "source": [
    "SPECTROGRAMS_PATH = \n",
    "WAVFILE_PATH = \n",
    "INTERVALS_PATH = "
   ]
  },
  {
   "cell_type": "code",
   "execution_count": 3,
   "metadata": {},
   "outputs": [],
   "source": [
    "import hdbscan\n",
    "import ipywidgets as widgets\n",
    "import numpy as np\n",
    "import matplotlib.pyplot as plt\n",
    "from IPython.display import display, Audio, HTML, clear_output\n",
    "from ipywidgets import interact, interactive\n",
    "from sklearn.decomposition import PCA\n",
    "from soundsig.sound import plot_spectrogram, spectrogram\n",
    "from soundsig.signal import bandpass_filter\n",
    "\n",
    "from interfaces.audio import LazyMultiWavInterface\n",
    "from plotting_utils import MultiSpecPlotter\n",
    "\n",
    "%load_ext autoreload\n",
    "%autoreload 2"
   ]
  },
  {
   "cell_type": "code",
   "execution_count": 4,
   "metadata": {},
   "outputs": [],
   "source": [
    "audio_signal = LazyMultiWavInterface([WAVFILE_PATH])\n",
    "spectrograms = np.load(SPECTROGRAMS_PATH)[()]\n",
    "intervals = np.load(INTERVALS_PATH)[()]"
   ]
  },
  {
   "cell_type": "code",
   "execution_count": 5,
   "metadata": {},
   "outputs": [],
   "source": [
    "fig = None\n",
    "def view_spectrogram(interval_idx, window_width, dbnoise):\n",
    "    global fig\n",
    "    \n",
    "    if fig is not None:\n",
    "        plt.close(fig)\n",
    "        \n",
    "    t_start, t_stop = intervals[interval_idx]\n",
    "    \n",
    "    t_mid = (t_stop + t_start) / 2\n",
    "    \n",
    "    window_width /= 2\n",
    "    slice_start = max(0.0, t_mid - window_width)\n",
    "    slice_stop = min(len(audio_signal) / audio_signal.sampling_rate, t_mid + window_width)\n",
    "    _, sig = audio_signal.time_slice(slice_start, slice_stop)\n",
    "    sig -= np.mean(sig, axis=0)\n",
    "#     sig = bandpass_filter(sig.T, sample_rate=audio_signal.sampling_rate, low_freq=250, high_freq=10000).T\n",
    "    sig = sig[:, 0]\n",
    "    \n",
    "    fig = plt.figure(figsize=(16, 6))\n",
    "    ax = plt.gca()\n",
    "    \n",
    "    t_spec, f_spec, spec, _ = spectrogram(sig, audio_signal.sampling_rate, 1000, 50, min_freq=250, max_freq=10000, cmplx=False)\n",
    "    plot_spectrogram(slice_start + t_spec, f_spec, spec, ax=ax, dBNoise=dbnoise)\n",
    "    \n",
    "    idx1 = np.searchsorted(intervals[:, 1], slice_start)\n",
    "    idx2 = np.searchsorted(intervals[:, 0], slice_stop)\n",
    "    \n",
    "    for i in np.arange(idx1, idx2):\n",
    "        if i == interval_idx:\n",
    "            continue\n",
    "        t1, t2 = intervals[i]\n",
    "        plt.vlines([t1], *plt.ylim(), color=\"Black\", linestyle=\"--\")\n",
    "        plt.vlines([t2], *plt.ylim(), color=\"Black\", linestyle=\"-\")\n",
    "\n",
    "    plt.vlines([t_start, t_stop], *plt.ylim(), color=\"Red\", linestyle=\"-\")\n",
    "    plt.xlim(slice_start, slice_stop)\n",
    "    \n",
    "    plt.show()\n",
    "    \n",
    "    snip_start = max(0.0, t_start - 0.02)\n",
    "    snip_stop = min(len(audio_signal) / audio_signal.sampling_rate, t_stop + 0.02)\n",
    "    _, sig2 = audio_signal.time_slice(snip_start, snip_stop)\n",
    "    sig2 -= np.mean(sig2, axis=0)\n",
    "    sig2 = bandpass_filter(sig2.T, sample_rate=audio_signal.sampling_rate, low_freq=250, high_freq=10000).T\n",
    "    sig2 = sig2[:, 0]\n",
    "\n",
    "    display(Audio(data=sig2, rate=audio_signal.sampling_rate, normalize=False))\n",
    "    print(\"Play full audio\")\n",
    "    display(Audio(data=sig, rate=audio_signal.sampling_rate, normalize=False))\n",
    "\n",
    "    return"
   ]
  },
  {
   "cell_type": "code",
   "execution_count": 6,
   "metadata": {},
   "outputs": [],
   "source": [
    "index_picker = widgets.IntSlider(\n",
    "    value=0,\n",
    "    min=0,\n",
    "    max=len(intervals) - 1,\n",
    "    step=1,\n",
    "    description='',\n",
    "    disabled=False,\n",
    "    continuous_update=False,\n",
    "    orientation='horizontal',\n",
    "    readout=True,\n",
    "    readout_format='d'\n",
    ")\n",
    "\n",
    "index_input = widgets.IntText(\n",
    "    value=0,\n",
    "    description='Index:',\n",
    "    disabled=False\n",
    ")\n",
    "\n",
    "set_window_width = widgets.FloatSlider(\n",
    "    value=2.0,\n",
    "    min=1.0,\n",
    "    max=5.0,\n",
    "    step=0.5,\n",
    "    description=\"Window:\",\n",
    "    orientation=\"horizontal\",\n",
    "    continuous_update=False,\n",
    "    readout=True,\n",
    "    readout_format=\"f\"\n",
    ")\n",
    "\n",
    "set_dbnoise = widgets.IntSlider(\n",
    "    value=40,\n",
    "    min=20,\n",
    "    max=80,\n",
    "    step=1,\n",
    "    description=\"dBNoise\",\n",
    "    orientation=\"horizontal\",\n",
    "    continuous_update=False,\n",
    "    readout=True,\n",
    "    readout_format=\"d\"\n",
    ")\n",
    "\n",
    "widgets.jslink((index_picker, \"value\"), (index_input, \"value\"))\n",
    "\n",
    "out_spectrogram = widgets.interactive_output(\n",
    "    view_spectrogram,\n",
    "    {\n",
    "        \"interval_idx\": index_picker,\n",
    "        \"window_width\": set_window_width,\n",
    "        \"dbnoise\": set_dbnoise\n",
    "    }\n",
    ")\n",
    "\n",
    "prev_button = widgets.Button(\n",
    "    description=\"Previous\",\n",
    ")\n",
    "\n",
    "next_button = widgets.Button(\n",
    "    description=\"Next\",\n",
    ")\n",
    "\n",
    "def increment(_):\n",
    "    index_picker.value += 1\n",
    "\n",
    "def decrement(_):\n",
    "    index_picker.value -= 1\n",
    "    \n",
    "next_button.on_click(increment)\n",
    "prev_button.on_click(decrement)"
   ]
  },
  {
   "cell_type": "code",
   "execution_count": 7,
   "metadata": {},
   "outputs": [
    {
     "data": {
      "application/vnd.jupyter.widget-view+json": {
       "model_id": "0ebcc176da6847c6b5644b52a21bcff3",
       "version_major": 2,
       "version_minor": 0
      },
      "text/plain": [
       "VBox(children=(Output(), HBox(children=(IntText(value=0, description='Index:'), Button(description='Previous',…"
      ]
     },
     "metadata": {},
     "output_type": "display_data"
    }
   ],
   "source": [
    "widgets.VBox([\n",
    "    out_spectrogram,\n",
    "    widgets.HBox([\n",
    "        index_input,\n",
    "        prev_button,\n",
    "        index_picker,\n",
    "        next_button\n",
    "    ]),\n",
    "    set_window_width,\n",
    "    set_dbnoise\n",
    "])\n"
   ]
  },
  {
   "cell_type": "code",
   "execution_count": null,
   "metadata": {},
   "outputs": [],
   "source": []
  },
  {
   "cell_type": "code",
   "execution_count": null,
   "metadata": {},
   "outputs": [],
   "source": []
  }
 ],
 "metadata": {
  "kernelspec": {
   "display_name": "Python 3",
   "language": "python",
   "name": "python3"
  },
  "language_info": {
   "codemirror_mode": {
    "name": "ipython",
    "version": 3
   },
   "file_extension": ".py",
   "mimetype": "text/x-python",
   "name": "python",
   "nbconvert_exporter": "python",
   "pygments_lexer": "ipython3",
   "version": "3.5.2"
  }
 },
 "nbformat": 4,
 "nbformat_minor": 4
}
